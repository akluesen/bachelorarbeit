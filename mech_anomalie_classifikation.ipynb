{
 "cells": [
  {
   "cell_type": "code",
   "execution_count": 102,
   "metadata": {},
   "outputs": [],
   "source": [
    "%matplotlib inline\n",
    "import tensorflow as tf\n",
    "import numpy as np\n",
    "import matplotlib.pyplot as plt\n",
    "import pandas as pd\n",
    "import seaborn as sns\n",
    "import warnings\n",
    "warnings.filterwarnings('ignore')\n",
    "from scipy import stats\n",
    "from scipy.signal import find_peaks\n",
    "\n",
    "from sre_parse import CATEGORIES\n",
    "\n",
    "\n",
    "\n",
    "all = pd.DataFrame(pd.read_excel('sensordata_excel/complete_data_left_right_anomalie_mech.xlsx'))\n",
    "\n",
    "all.dropna()\n",
    "all.shape\n",
    "\n",
    "data = all[['acc.ax','acc.ay','acc.az','acc.gx','acc.gy','acc.gz','gyro.gx','gyro.gy','gyro.gz','timestamp']]\n",
    "\n",
    "target = all[['target']]\n",
    "target_names = all[['target.names']]\n",
    "\n",
    "\n",
    "\n"
   ]
  },
  {
   "cell_type": "code",
   "execution_count": 103,
   "metadata": {},
   "outputs": [],
   "source": [
    "accgx_list =[]\n",
    "accgy_list =[]\n",
    "accgz_list = []\n",
    "\n",
    "\n",
    "accax_list = []\n",
    "accay_list = []\n",
    "accaz_list = []\n",
    "\n",
    "\n",
    "gyrogx_list = []\n",
    "gyrogy_list = []\n",
    "gyrogz_list = []\n",
    "\n",
    "train_labels = []\n",
    "\n",
    "\n",
    "window_size = 18 \n",
    "step_size = 6\n",
    "\n",
    "for i in range(0, data.shape[0] - window_size, step_size):\n",
    "    accax = data['acc.ax'].values[i: i + 18]\n",
    "    accay = data['acc.ay'].values[i: i + 18]\n",
    "    accaz = data['acc.az'].values[i: i + 18]\n",
    "    accgx = data['acc.gx'].values[i: i + 18]\n",
    "    accgy = data['acc.gy'].values[i: i + 18]\n",
    "    accgz = data['acc.gz'].values[i: i + 18]\n",
    "    gyrogx = data['gyro.gz'].values[i: i + 18]\n",
    "    gyrogy = data['gyro.gz'].values[i: i + 18]\n",
    "    gyrogz = data['gyro.gz'].values[i: i + 18]\n",
    "    label = stats.mode(target[i: i + 18])[0][0]\n",
    "\n",
    "\n",
    "    accax_list.append(accax)\n",
    "    accay_list.append(accay)\n",
    "    accaz_list.append(accaz)\n",
    "    accgx_list.append(accgx)\n",
    "    accgy_list.append(accgy)\n",
    "    accgz_list.append(accgz)\n",
    "    gyrogx_list.append(gyrogx)\n",
    "    gyrogy_list.append(gyrogy)\n",
    "    gyrogz_list.append(gyrogz)\n",
    "    train_labels.append(label)\n",
    "\n",
    "# neues DataFrame\n",
    "X_data = pd.DataFrame()\n",
    "\n",
    "# Mittelwert\n",
    "X_data['accax_mean'] = pd.Series(accax_list).apply(lambda x: x.mean())\n",
    "X_data['accay_mean'] = pd.Series(accay_list).apply(lambda x: x.mean())\n",
    "X_data['accaz_mean'] = pd.Series(accaz_list).apply(lambda x: x.mean())\n",
    "X_data['accgx_mean'] = pd.Series(accgx_list).apply(lambda x: x.mean())\n",
    "X_data['accgy_mean'] = pd.Series(accgy_list).apply(lambda x: x.mean())\n",
    "X_data['accgz_mean'] = pd.Series(accgz_list).apply(lambda x: x.mean())\n",
    "X_data['gyrogx_mean'] = pd.Series(gyrogx_list).apply(lambda x: x.mean())\n",
    "X_data['gyrogy_mean'] = pd.Series(gyrogy_list).apply(lambda x: x.mean())\n",
    "X_data['gyrogz_mean'] = pd.Series(gyrogz_list).apply(lambda x: x.mean())\n",
    "\n",
    "# Standardabweichung\n",
    "X_data['accax_std'] = pd.Series(accax_list).apply(lambda x: x.std())\n",
    "X_data['accay_std'] = pd.Series(accay_list).apply(lambda x: x.std())\n",
    "X_data['accaz_std'] = pd.Series(accaz_list).apply(lambda x: x.std())\n",
    "X_data['accgx_std'] = pd.Series(accgx_list).apply(lambda x: x.std())\n",
    "X_data['accgy_std'] = pd.Series(accgy_list).apply(lambda x: x.std())\n",
    "X_data['accgz_std'] = pd.Series(accgz_list).apply(lambda x: x.std())\n",
    "X_data['gyrogx_std'] = pd.Series(gyrogx_list).apply(lambda x: x.std())\n",
    "X_data['gyrogy_std'] = pd.Series(gyrogy_list).apply(lambda x: x.std())\n",
    "X_data['gyrogz_std'] = pd.Series(gyrogz_list).apply(lambda x: x.std())\n",
    "\n",
    "# durchschnittliche absolute Abweichung\n",
    "X_data['accax_aad'] = pd.Series(accax_list).apply(lambda x: np.mean(np.absolute(x - np.mean(x))))\n",
    "X_data['accay_aad'] = pd.Series(accay_list).apply(lambda x: np.mean(np.absolute(x - np.mean(x))))\n",
    "X_data['accaz_aad'] = pd.Series(accaz_list).apply(lambda x: np.mean(np.absolute(x - np.mean(x))))\n",
    "X_data['accgx_aad'] = pd.Series(accgx_list).apply(lambda x: np.mean(np.absolute(x - np.mean(x))))\n",
    "X_data['accgy_aad'] = pd.Series(accgy_list).apply(lambda x: np.mean(np.absolute(x - np.mean(x))))\n",
    "X_data['accgz_aad'] = pd.Series(accgz_list).apply(lambda x: np.mean(np.absolute(x - np.mean(x))))\n",
    "X_data['gyrogx_aad'] = pd.Series(gyrogx_list).apply(lambda x: np.mean(np.absolute(x - np.mean(x))))\n",
    "X_data['gyrogy_aad'] = pd.Series(gyrogy_list).apply(lambda x: np.mean(np.absolute(x - np.mean(x))))\n",
    "X_data['gyrogz_aad'] = pd.Series(gyrogz_list).apply(lambda x: np.mean(np.absolute(x - np.mean(x))))\n",
    "\n",
    "# Minimalwert\n",
    "X_data['accax_min'] = pd.Series(accax_list).apply(lambda x: x.min())\n",
    "X_data['accay_min'] = pd.Series(accay_list).apply(lambda x: x.min())\n",
    "X_data['accaz_min'] = pd.Series(accaz_list).apply(lambda x: x.min())\n",
    "X_data['accgx_min'] = pd.Series(accgz_list).apply(lambda x: x.min())\n",
    "X_data['accgy_min'] = pd.Series(accgz_list).apply(lambda x: x.min())\n",
    "X_data['accgz_min'] = pd.Series(accgz_list).apply(lambda x: x.min())\n",
    "X_data['gyrogx_min'] = pd.Series(gyrogx_list).apply(lambda x: x.min())\n",
    "X_data['gyrogy_min'] = pd.Series(gyrogy_list).apply(lambda x: x.min())\n",
    "X_data['gyrogz_min'] = pd.Series(gyrogz_list).apply(lambda x: x.min())\n",
    "\n",
    "# Maximalwert\n",
    "X_data['accax_max'] = pd.Series(accax_list).apply(lambda x: x.max())\n",
    "X_data['accay_max'] = pd.Series(accay_list).apply(lambda x: x.max())\n",
    "X_data['accaz_max'] = pd.Series(accaz_list).apply(lambda x: x.max())\n",
    "X_data['accgx_max'] = pd.Series(accgx_list).apply(lambda x: x.max())\n",
    "X_data['accgy_max'] = pd.Series(accgy_list).apply(lambda x: x.max())\n",
    "X_data['accgz_max'] = pd.Series(accgz_list).apply(lambda x: x.max())\n",
    "X_data['gyrogx_max'] = pd.Series(gyrogx_list).apply(lambda x: x.max())\n",
    "X_data['gyrogy_max'] = pd.Series(gyrogy_list).apply(lambda x: x.max())\n",
    "X_data['gyrogz_max'] = pd.Series(gyrogz_list).apply(lambda x: x.max())\n",
    "\n",
    "\n",
    "# Median\n",
    "X_data['accax_median'] = pd.Series(accax_list).apply(lambda x: np.median(x))\n",
    "X_data['accay_median'] = pd.Series(accay_list).apply(lambda x: np.median(x))\n",
    "X_data['accaz_median'] = pd.Series(accaz_list).apply(lambda x: np.median(x))\n",
    "X_data['accgx_median'] = pd.Series(accgx_list).apply(lambda x: np.median(x))\n",
    "X_data['accgy_median'] = pd.Series(accgy_list).apply(lambda x: np.median(x))\n",
    "X_data['accgz_median'] = pd.Series(accgz_list).apply(lambda x: np.median(x))\n",
    "X_data['gyrogx_median'] = pd.Series(gyrogx_list).apply(lambda x: np.median(x))\n",
    "X_data['gyrogy_median'] = pd.Series(gyrogy_list).apply(lambda x: np.median(x))\n",
    "X_data['gyrogz_median'] = pd.Series(gyrogz_list).apply(lambda x: np.median(x))\n",
    "\n",
    "# Median absolute Abweichung\n",
    "X_data['accax_mad'] = pd.Series(accax_list).apply(lambda x: np.median(np.absolute(x - np.median(x))))\n",
    "X_data['accay_mad'] = pd.Series(accay_list).apply(lambda x: np.median(np.absolute(x - np.median(x))))\n",
    "X_data['accaz_mad'] = pd.Series(accaz_list).apply(lambda x: np.median(np.absolute(x - np.median(x))))\n",
    "X_data['accgx_mad'] = pd.Series(accgx_list).apply(lambda x: np.median(np.absolute(x - np.median(x))))\n",
    "X_data['accgy_mad'] = pd.Series(accgy_list).apply(lambda x: np.median(np.absolute(x - np.median(x))))\n",
    "X_data['accgz_mad'] = pd.Series(accgz_list).apply(lambda x: np.median(np.absolute(x - np.median(x))))\n",
    "X_data['gyrogx_mad'] = pd.Series(gyrogx_list).apply(lambda x: np.median(np.absolute(x - np.median(x))))\n",
    "X_data['gyrogy_mad'] = pd.Series(gyrogy_list).apply(lambda x: np.median(np.absolute(x - np.median(x))))\n",
    "X_data['gyrogz_mad'] = pd.Series(gyrogz_list).apply(lambda x: np.median(np.absolute(x - np.median(x))))\n",
    "\n",
    "# Interquartilbereich\n",
    "X_data['accax_IQR'] = pd.Series(accax_list).apply(lambda x: np.percentile(x, 75) - np.percentile(x, 25))\n",
    "X_data['accay_IQR'] = pd.Series(accay_list).apply(lambda x: np.percentile(x, 75) - np.percentile(x, 25))\n",
    "X_data['accaz_IQR'] = pd.Series(accaz_list).apply(lambda x: np.percentile(x, 75) - np.percentile(x, 25))\n",
    "X_data['accgx_IQR'] = pd.Series(accgx_list).apply(lambda x: np.percentile(x, 75) - np.percentile(x, 25))\n",
    "X_data['accgy_IQR'] = pd.Series(accgy_list).apply(lambda x: np.percentile(x, 75) - np.percentile(x, 25))\n",
    "X_data['accgz_IQR'] = pd.Series(accgz_list).apply(lambda x: np.percentile(x, 75) - np.percentile(x, 25))\n",
    "X_data['gyrogx_IQR'] = pd.Series(gyrogx_list).apply(lambda x: np.percentile(x, 75) - np.percentile(x, 25))\n",
    "X_data['gyrogy_IQR'] = pd.Series(gyrogy_list).apply(lambda x: np.percentile(x, 75) - np.percentile(x, 25))\n",
    "X_data['gyrogz_IQR'] = pd.Series(gyrogz_list).apply(lambda x: np.percentile(x, 75) - np.percentile(x, 25))\n",
    "\n",
    "\n",
    "# Beschleunigung avg\n",
    "X_data['avg_result_acc'] = [i.mean() for i in ((pd.Series(accax_list)**2 + pd.Series(accay_list)**2 + pd.Series(accaz_list)**2)**0.5)]"
   ]
  },
  {
   "cell_type": "code",
   "execution_count": 104,
   "metadata": {},
   "outputs": [
    {
     "name": "stdout",
     "output_type": "stream",
     "text": [
      "              precision    recall  f1-score   support\n",
      "\n",
      "           1       0.95      0.86      0.90        21\n",
      "           2       0.88      0.96      0.92        23\n",
      "           3       0.88      1.00      0.93         7\n",
      "           4       1.00      0.95      0.97        19\n",
      "           5       1.00      1.00      1.00        23\n",
      "\n",
      "    accuracy                           0.95        93\n",
      "   macro avg       0.94      0.95      0.94        93\n",
      "weighted avg       0.95      0.95      0.95        93\n",
      "\n"
     ]
    }
   ],
   "source": [
    "\n",
    "from sklearn import metrics\n",
    "\n",
    "from sklearn.preprocessing import StandardScaler\n",
    "\n",
    "from sklearn.model_selection import train_test_split\n",
    "\n",
    "X = X_data\n",
    "y = train_labels\n",
    "\n",
    "X_train, X_test, y_train, y_test = train_test_split(X,y,test_size = 0.3, random_state=42)\n",
    "\n",
    "from sklearn.tree import DecisionTreeClassifier\n",
    "\n",
    "dtc = DecisionTreeClassifier(max_depth=5, random_state=42)\n",
    "\n",
    "dtc.fit(X_train,y_train)\n",
    "\n",
    "\n",
    "y_pred = dtc.predict(X_test)\n",
    "\n",
    "dtc = pd.Series([metrics.precision_score(y_test, y_pred, average= 'weighted'), metrics.recall_score(y_test, y_pred, average= 'weighted'), metrics.accuracy_score(y_test, y_pred), metrics.f1_score(y_test, y_pred, average= 'weighted')])\n",
    "dtc2 = pd.Series([1.0,1.0,1.0,1.0])\n",
    "print(metrics.classification_report(y_test,y_pred))\n",
    "\n",
    "\n",
    "\n"
   ]
  },
  {
   "cell_type": "code",
   "execution_count": 105,
   "metadata": {},
   "outputs": [
    {
     "name": "stdout",
     "output_type": "stream",
     "text": [
      "           mit Anomalie  ohne Anomalie\n",
      "Precision      0.949029            1.0\n",
      "Recall         0.946237            1.0\n",
      "Accuracy       0.946237            1.0\n",
      "F1             0.946270            1.0\n"
     ]
    }
   ],
   "source": [
    "graph = pd.concat([dtc, dtc2], axis = 1)\n",
    "graph.columns = ['mit Anomalie', 'ohne Anomalie'] # ,'GradientBoostingClassifier'\n",
    "graph.rename(index={0:'Precision',1:'Recall', 2:'Accuracy', 3: 'F1'}, inplace=True)\n",
    "\n",
    "\n",
    "print(graph)"
   ]
  },
  {
   "cell_type": "code",
   "execution_count": 106,
   "metadata": {},
   "outputs": [
    {
     "data": {
      "text/plain": [
       "<matplotlib.legend.Legend at 0x140bc32ba60>"
      ]
     },
     "execution_count": 106,
     "metadata": {},
     "output_type": "execute_result"
    },
    {
     "data": {
      "image/png": "[encoded data removed]",
      "text/plain": [
       "<Figure size 432x288 with 1 Axes>"
      ]
     },
     "metadata": {
      "needs_background": "light"
     },
     "output_type": "display_data"
    }
   ],
   "source": [
    "ax = graph.plot.barh(xticks = (np.arange(0, 1.1, step=0.1)), width=0.5, title = 'DecisionTreeClassifier ')\n",
    "ax.legend(loc='lower left')"
   ]
  }
 ],
 "metadata": {
  "kernelspec": {
   "display_name": "Python 3.10.6 64-bit",
   "language": "python",
   "name": "python3"
  },
  "language_info": {
   "codemirror_mode": {
    "name": "ipython",
    "version": 3
   },
   "file_extension": ".py",
   "mimetype": "text/x-python",
   "name": "python",
   "nbconvert_exporter": "python",
   "pygments_lexer": "ipython3",
   "version": "3.10.6"
  },
  "orig_nbformat": 4,
  "vscode": {
   "interpreter": {
    "hash": "bbc3c3d932324566a9bf4b4a52ddf64063695fc3adbf25b3fda92572428493bb"
   }
  }
 },
 "nbformat": 4,
 "nbformat_minor": 2
}
