{
 "cells": [
  {
   "cell_type": "code",
   "execution_count": 4,
   "metadata": {},
   "outputs": [],
   "source": [
    "import tensorflow as tf\n",
    "import numpy as np\n",
    "import matplotlib.pyplot as plt\n",
    "import pandas as pd"
   ]
  },
  {
   "cell_type": "code",
   "execution_count": 5,
   "metadata": {},
   "outputs": [
    {
     "name": "stdout",
     "output_type": "stream",
     "text": [
      "           ax        ay        az      gx      gy      gz      gx.1      gy.1  \\\n",
      "0   -4.493016 -4.493016 -4.493016 -644.49 -644.49 -644.49  1135.304  797.8435   \n",
      "1   -4.493016 -4.493016 -4.493016 -644.49 -644.49 -644.49  1135.304  797.8435   \n",
      "2   -4.493016 -4.493016 -4.493016 -644.49 -644.49 -644.49  1135.304  797.8435   \n",
      "3   -4.493016 -4.493016 -4.493016 -644.49 -644.49 -644.49  1135.304  797.8435   \n",
      "4   -4.493016 -4.493016 -4.493016 -644.49 -644.49 -644.49  1135.304  797.8435   \n",
      "..        ...       ...       ...     ...     ...     ...       ...       ...   \n",
      "127 -4.493016 -4.493016 -4.493016 -644.49 -644.49 -644.49  1135.304  797.8435   \n",
      "128 -4.493016 -4.493016 -4.493016 -644.49 -644.49 -644.49  1135.304  797.8435   \n",
      "129 -4.493016 -4.493016 -4.493016 -644.49 -644.49 -644.49  1135.304  797.8435   \n",
      "130 -4.493016 -4.493016 -4.493016 -644.49 -644.49 -644.49  1135.304  797.8435   \n",
      "131 -4.493016 -4.493016 -4.493016 -644.49 -644.49 -644.49  1135.304  797.8435   \n",
      "\n",
      "         gz.1      timestamp  \n",
      "0    797.8435  1660836430303  \n",
      "1    797.8435  1660836430358  \n",
      "2    797.8435  1660836430412  \n",
      "3    797.8435  1660836430467  \n",
      "4    797.8435  1660836430555  \n",
      "..        ...            ...  \n",
      "127  797.8435  1660836438274  \n",
      "128  797.8435  1660836438362  \n",
      "129  797.8435  1660836438417  \n",
      "130  797.8435  1660836438471  \n",
      "131  797.8435  1660836438525  \n",
      "\n",
      "[132 rows x 10 columns]\n"
     ]
    }
   ],
   "source": [
    "data = pd.DataFrame(pd.read_excel('data.xlsx'))\n",
    "print(data)"
   ]
  },
  {
   "cell_type": "code",
   "execution_count": 6,
   "metadata": {},
   "outputs": [
    {
     "name": "stdout",
     "output_type": "stream",
     "text": [
      "           ax        ay        az\n",
      "0   -4.493016 -4.493016 -4.493016\n",
      "1   -4.493016 -4.493016 -4.493016\n",
      "2   -4.493016 -4.493016 -4.493016\n",
      "3   -4.493016 -4.493016 -4.493016\n",
      "4   -4.493016 -4.493016 -4.493016\n",
      "..        ...       ...       ...\n",
      "127 -4.493016 -4.493016 -4.493016\n",
      "128 -4.493016 -4.493016 -4.493016\n",
      "129 -4.493016 -4.493016 -4.493016\n",
      "130 -4.493016 -4.493016 -4.493016\n",
      "131 -4.493016 -4.493016 -4.493016\n",
      "\n",
      "[132 rows x 3 columns]\n"
     ]
    },
    {
     "data": {
      "text/plain": [
       "[<matplotlib.lines.Line2D at 0x2a2498a52a0>,\n",
       " <matplotlib.lines.Line2D at 0x2a2498a5300>,\n",
       " <matplotlib.lines.Line2D at 0x2a2498a5420>]"
      ]
     },
     "execution_count": 6,
     "metadata": {},
     "output_type": "execute_result"
    },
    {
     "data": {
      "image/png": "[encoded data removed]",
      "text/plain": [
       "<Figure size 432x288 with 1 Axes>"
      ]
     },
     "metadata": {
      "needs_background": "light"
     },
     "output_type": "display_data"
    }
   ],
   "source": [
    "X = data[['ax','ay','az']]\n",
    "Y = data[['timestamp']]\n",
    "print(X)\n",
    "plt.plot(X,Y)"
   ]
  }
 ],
 "metadata": {
  "kernelspec": {
   "display_name": "Python 3.10.6 64-bit",
   "language": "python",
   "name": "python3"
  },
  "language_info": {
   "codemirror_mode": {
    "name": "ipython",
    "version": 3
   },
   "file_extension": ".py",
   "mimetype": "text/x-python",
   "name": "python",
   "nbconvert_exporter": "python",
   "pygments_lexer": "ipython3",
   "version": "3.10.6"
  },
  "orig_nbformat": 4,
  "vscode": {
   "interpreter": {
    "hash": "bbc3c3d932324566a9bf4b4a52ddf64063695fc3adbf25b3fda92572428493bb"
   }
  }
 },
 "nbformat": 4,
 "nbformat_minor": 2
}
