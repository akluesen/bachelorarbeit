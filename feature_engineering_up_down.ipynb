{
 "cells": [
  {
   "cell_type": "code",
   "execution_count": 42,
   "metadata": {},
   "outputs": [
    {
     "name": "stdout",
     "output_type": "stream",
     "text": [
      "        acc.ax    acc.ay    acc.az  acc.gx  acc.gy  acc.gz   gyro.gx  \\\n",
      "0    -0.037088  0.193736  1.096536    1.19   -4.41    0.35  4.313044   \n",
      "1     0.029280 -0.057584  0.921344    2.31   -6.79   -4.34 -4.730435   \n",
      "2     0.007320  0.103456  1.143384    1.68   -4.90   -1.75  3.547826   \n",
      "3     0.034160  0.111752  0.853024    0.56   -3.57   -3.29  0.486957   \n",
      "4     0.006832 -0.111264  1.054080   -1.96   -3.36   -1.61  2.295652   \n",
      "...        ...       ...       ...     ...     ...     ...       ...   \n",
      "1778  0.048312  0.019032  0.843752   -4.20   -4.69   -0.70  6.608696   \n",
      "1779 -0.015128  0.136640  1.009184   -0.28   -5.74   -1.40  3.130435   \n",
      "1780 -0.024400  0.054168  1.040416    1.96   -4.90   -1.82  1.460870   \n",
      "1781 -0.048800  0.334768  0.969656    2.38   -4.97   -2.66 -6.956522   \n",
      "1782  0.010248  0.030256  1.084824    2.24   -1.82   -2.80 -0.347826   \n",
      "\n",
      "       gyro.gy   gyro.gz      timestamp  target target.names  \n",
      "0     2.434783 -0.208696  1662115415043       1           up  \n",
      "1    -2.504348  0.834783  1662115415100       1           up  \n",
      "2    -1.321739 -0.069565  1662115415158       1           up  \n",
      "3     3.895652 -0.069565  1662115415217       1           up  \n",
      "4     0.278261  0.486957  1662115415304       1           up  \n",
      "...        ...       ...            ...     ...          ...  \n",
      "1778  5.286956 -1.947826  1662116882216       5        stand  \n",
      "1779 -2.643478 -1.669565  1662116882303       5        stand  \n",
      "1780  3.130435 -0.347826  1662116882361       5        stand  \n",
      "1781  2.156522  1.321739  1662116882418       5        stand  \n",
      "1782 -1.878261 -1.113043  1662116882477       5        stand  \n",
      "\n",
      "[1783 rows x 12 columns]\n"
     ]
    }
   ],
   "source": [
    "%matplotlib inline\n",
    "import tensorflow as tf\n",
    "import numpy as np\n",
    "import matplotlib.pyplot as plt\n",
    "import pandas as pd\n",
    "import seaborn as sns\n",
    "import warnings\n",
    "warnings.filterwarnings('ignore')\n",
    "from scipy import stats\n",
    "from scipy.signal import find_peaks\n",
    "\n",
    "from sre_parse import CATEGORIES\n",
    "\n",
    "\n",
    "##all = pd.DataFrame(pd.read_excel('left_rigth_classification.xlsx'))\n",
    "all = pd.DataFrame(pd.read_excel('complete_data_up_down.xlsx'))\n",
    "\n",
    "all.dropna()\n",
    "all.shape\n",
    "\n",
    "data = all[['acc.ax','acc.ay','acc.az','acc.gx','acc.gy','acc.gz','gyro.gx','gyro.gy','gyro.gz','timestamp']]\n",
    "target = all[['target']]\n",
    "target_names = all[['target.names']]\n",
    "print(all)\n",
    "\n",
    "\n",
    "\n"
   ]
  },
  {
   "cell_type": "code",
   "execution_count": 43,
   "metadata": {},
   "outputs": [
    {
     "data": {
      "image/png": "[encoded data removed]",
      "text/plain": [
       "<Figure size 720x360 with 1 Axes>"
      ]
     },
     "metadata": {},
     "output_type": "display_data"
    }
   ],
   "source": [
    "sns.set_style('whitegrid') \n",
    "plt.figure(figsize = (10, 5)) \n",
    "sns.countplot(x = 'target', data = all) \n",
    "plt.title('Bewegungen') \n",
    "plt.show()"
   ]
  },
  {
   "cell_type": "code",
   "execution_count": 44,
   "metadata": {},
   "outputs": [
    {
     "data": {
      "text/plain": [
       "<seaborn.axisgrid.FacetGrid at 0x2177779d810>"
      ]
     },
     "execution_count": 44,
     "metadata": {},
     "output_type": "execute_result"
    },
    {
     "data": {
      "image/png": "[encoded data removed]",
      "text/plain": [
       "<Figure size 473.625x432 with 1 Axes>"
      ]
     },
     "metadata": {},
     "output_type": "display_data"
    }
   ],
   "source": [
    "sns.FacetGrid(all, hue = 'target', size = 6).map(sns.distplot, 'acc.az').add_legend()"
   ]
  },
  {
   "cell_type": "code",
   "execution_count": 45,
   "metadata": {},
   "outputs": [
    {
     "ename": "SyntaxError",
     "evalue": "incomplete input (2522065347.py, line 129)",
     "output_type": "error",
     "traceback": [
      "\u001b[1;36m  Input \u001b[1;32mIn [45]\u001b[1;36m\u001b[0m\n\u001b[1;33m    + pd.Series(accgx_list).apply(lambda x: np.sum(abs(x)/100) + pd.Series(accgy_list).apply(lambda x: np.sum(abs(x)/100))\u001b[0m\n\u001b[1;37m                                                                                                                          ^\u001b[0m\n\u001b[1;31mSyntaxError\u001b[0m\u001b[1;31m:\u001b[0m incomplete input\n"
     ]
    }
   ],
   "source": [
    "accgy_list = []\n",
    "accgx_list = []\n",
    "accay_list = []\n",
    "accax_list = []\n",
    "train_labels = []\n",
    "\n",
    "\n",
    "\n",
    "step_size = 5\n",
    "\n",
    "# creating overlaping windows of size window-size 100\n",
    "for i in range(0, data.shape[0], step_size):\n",
    "    accax = data['acc.ax'].values[i: i + 50]\n",
    "    accay = data['acc.ay'].values[i: i + 50]\n",
    "    accgx = data['acc.gx'].values[i: i + 50]\n",
    "    accgy = data['acc.gy'].values[i: i + 50]\n",
    "    label = stats.mode(target[i: i + 50])[0][0]\n",
    "\n",
    "    print(label)\n",
    "    accax_list.append(accax)\n",
    "    accay_list.append(accay)\n",
    "    accgx_list.append(accgx)\n",
    "    accgy_list.append(accgy)\n",
    "    train_labels.append(label)\n",
    "\n",
    "# Statistical Features on raw x, y and z in time domain\n",
    "X_data = pd.DataFrame()\n",
    "\n",
    "# mean\n",
    "X_data['accax_mean'] = pd.Series(accax_list).apply(lambda x: x.mean())\n",
    "X_data['accay_mean'] = pd.Series(accay_list).apply(lambda x: x.mean())\n",
    "X_data['accgx_mean'] = pd.Series(accgx_list).apply(lambda x: x.mean())\n",
    "X_data['accgy_mean'] = pd.Series(accgy_list).apply(lambda x: x.mean())\n",
    "\n",
    "# std dev\n",
    "X_data['accax_std'] = pd.Series(accax_list).apply(lambda x: x.std())\n",
    "X_data['accay_std'] = pd.Series(accay_list).apply(lambda x: x.std())\n",
    "X_data['accgx_std'] = pd.Series(accgx_list).apply(lambda x: x.std())\n",
    "X_data['accgy_std'] = pd.Series(accgy_list).apply(lambda x: x.std())\n",
    "\n",
    "# avg absolute diff\n",
    "X_data['accax_aad'] = pd.Series(accax_list).apply(lambda x: np.mean(np.absolute(x - np.mean(x))))\n",
    "X_data['accay_aad'] = pd.Series(accay_list).apply(lambda x: np.mean(np.absolute(x - np.mean(x))))\n",
    "X_data['accgx_aad'] = pd.Series(accgx_list).apply(lambda x: np.mean(np.absolute(x - np.mean(x))))\n",
    "X_data['accgy_aad'] = pd.Series(accgy_list).apply(lambda x: np.mean(np.absolute(x - np.mean(x))))\n",
    "\n",
    "# min\n",
    "X_data['accax_min'] = pd.Series(accax_list).apply(lambda x: x.min())\n",
    "X_data['accay_min'] = pd.Series(accay_list).apply(lambda x: x.min())\n",
    "X_data['accgx_min'] = pd.Series(accgx_list).apply(lambda x: x.min())\n",
    "X_data['accgy_min'] = pd.Series(accgy_list).apply(lambda x: x.min())\n",
    "\n",
    "# max\n",
    "X_data['accax_max'] = pd.Series(accax_list).apply(lambda x: x.max())\n",
    "X_data['accay_max'] = pd.Series(accay_list).apply(lambda x: x.max())\n",
    "X_data['accgx_max'] = pd.Series(accgx_list).apply(lambda x: x.max())\n",
    "X_data['accgy_max'] = pd.Series(accgy_list).apply(lambda x: x.max())\n",
    "\n",
    "# max-min diff\n",
    "X_data['accax_maxmin_diff'] = X_data['accax_max'] - X_data['accax_min']\n",
    "X_data['accay_maxmin_diff'] = X_data['accay_max'] - X_data['accay_min']\n",
    "X_data['accgx_maxmin_diff'] = X_data['accgx_max'] - X_data['accgx_min']\n",
    "X_data['accgy_maxmin_diff'] = X_data['accgy_max'] - X_data['accgy_min']\n",
    "\n",
    "# median\n",
    "X_data['accax_median'] = pd.Series(accax_list).apply(lambda x: np.median(x))\n",
    "X_data['accay_median'] = pd.Series(accay_list).apply(lambda x: np.median(x))\n",
    "X_data['accgx_median'] = pd.Series(accgx_list).apply(lambda x: np.median(x))\n",
    "X_data['accgy_median'] = pd.Series(accgy_list).apply(lambda x: np.median(x))\n",
    "\n",
    "# median abs dev \n",
    "X_data['accax_mad'] = pd.Series(accax_list).apply(lambda x: np.median(np.absolute(x - np.median(x))))\n",
    "X_data['accay_mad'] = pd.Series(accay_list).apply(lambda x: np.median(np.absolute(x - np.median(x))))\n",
    "X_data['accgx_mad'] = pd.Series(accgx_list).apply(lambda x: np.median(np.absolute(x - np.median(x))))\n",
    "X_data['accgy_mad'] = pd.Series(accgy_list).apply(lambda x: np.median(np.absolute(x - np.median(x))))\n",
    "\n",
    "# interquartile range\n",
    "X_data['accax_IQR'] = pd.Series(accax_list).apply(lambda x: np.percentile(x, 75) - np.percentile(x, 25))\n",
    "X_data['accay_IQR'] = pd.Series(accay_list).apply(lambda x: np.percentile(x, 75) - np.percentile(x, 25))\n",
    "X_data['accgx_IQR'] = pd.Series(accgx_list).apply(lambda x: np.percentile(x, 75) - np.percentile(x, 25))\n",
    "X_data['accgy_IQR'] = pd.Series(accgy_list).apply(lambda x: np.percentile(x, 75) - np.percentile(x, 25))\n",
    "\n",
    "# negtive count\n",
    "X_data['accax_neg_count'] = pd.Series(accax_list).apply(lambda x: np.sum(x < 0))\n",
    "X_data['accay_neg_count'] = pd.Series(accay_list).apply(lambda x: np.sum(x < 0))\n",
    "X_data['accgx_neg_count'] = pd.Series(accgx_list).apply(lambda x: np.sum(x < 0))\n",
    "X_data['accgy_neg_count'] = pd.Series(accgy_list).apply(lambda x: np.sum(x < 0))\n",
    "\n",
    "# positive count\n",
    "X_data['accax_pos_count'] = pd.Series(accax_list).apply(lambda x: np.sum(x > 0))\n",
    "X_data['accay_pos_count'] = pd.Series(accay_list).apply(lambda x: np.sum(x > 0))\n",
    "X_data['accgx_pos_count'] = pd.Series(accgx_list).apply(lambda x: np.sum(x > 0))\n",
    "X_data['accgy_pos_count'] = pd.Series(accgy_list).apply(lambda x: np.sum(x > 0))\n",
    "\n",
    "# values above mean\n",
    "X_data['accax_above_mean'] = pd.Series(accax_list).apply(lambda x: np.sum(x > x.mean()))\n",
    "X_data['accay_above_mean'] = pd.Series(accay_list).apply(lambda x: np.sum(x > x.mean()))\n",
    "X_data['accgx_above_mean'] = pd.Series(accgx_list).apply(lambda x: np.sum(x > x.mean()))\n",
    "X_data['accgy_above_mean'] = pd.Series(accgy_list).apply(lambda x: np.sum(x > x.mean()))\n",
    "\n",
    "# number of peaks\n",
    "X_data['accax_peak_count'] = pd.Series(accax_list).apply(lambda x: len(find_peaks(x)[0]))\n",
    "X_data['accay_peak_count'] = pd.Series(accay_list).apply(lambda x: len(find_peaks(x)[0]))\n",
    "X_data['accgx_peak_count'] = pd.Series(accgx_list).apply(lambda x: len(find_peaks(x)[0]))\n",
    "X_data['accgy_peak_count'] = pd.Series(accgy_list).apply(lambda x: len(find_peaks(x)[0]))\n",
    "\n",
    "# energy\n",
    "X_data['accax_energy'] = pd.Series(accax_list).apply(lambda x: np.sum(x**2)/100)\n",
    "X_data['accay_energy'] = pd.Series(accay_list).apply(lambda x: np.sum(x**2)/100)\n",
    "X_data['accgx_energy'] = pd.Series(accgx_list).apply(lambda x: np.sum(x**2)/100)\n",
    "X_data['accgy_energy'] = pd.Series(accgy_list).apply(lambda x: np.sum(x**2)/100)\n",
    "\n",
    "# skewness\n",
    "#X_data['accax_skewness'] = pd.Series(accax_list).apply(lambda x: stats.skew(x))\n",
    "#X_data['accay_skewness'] = pd.Series(accay_list).apply(lambda x: stats.skew(x))\n",
    "#X_data['accgx_skewness'] = pd.Series(accgx_list).apply(lambda x: stats.skew(x))\n",
    "\n",
    "# kurtosis\n",
    "#X_data['accax_kurtosis'] = pd.Series(accax_list).apply(lambda x: stats.kurtosis(x))\n",
    "##X_data['accay_kurtosis'] = pd.Series(accay_list).apply(lambda x: stats.kurtosis(x))\n",
    "#X_data['accgx_kurtosis'] = pd.Series(accgx_list).apply(lambda x: stats.kurtosis(x))\n",
    "\n",
    "\n",
    "# avg resultant\n",
    "#X_data['avg_result_accl'] = [i.mean() for i in ((pd.Series(accax_list)**2 + pd.Series(accay_list)**2 + pd.Series(accgx_list)**2 + pd.Series(accgy_list)**2)**0.5)]\n",
    "\n",
    "# signal magnitude area\n",
    "#X_data['sma'] =  pd.Series(accax_list).apply(lambda x: np.sum(abs(x)/100)) + pd.Series(accay_list).apply(lambda x: np.sum(abs(x)/100)) \\\n",
    "#                  + pd.Series(accgx_list).apply(lambda x: np.sum(abs(x)/100) + pd.Series(accgy_list).apply(lambda x: np.sum(abs(x)/100))"
   ]
  },
  {
   "cell_type": "code",
   "execution_count": null,
   "metadata": {},
   "outputs": [
    {
     "name": "stdout",
     "output_type": "stream",
     "text": [
      "     accax_mean  accay_mean  accgx_mean  accgy_mean  accax_std  accay_std  \\\n",
      "0      0.019296    0.074898    0.628600   -4.291000   0.041984   0.078169   \n",
      "1      0.023951    0.075913    0.509600   -4.506600   0.049128   0.095580   \n",
      "2      0.024790    0.078548    0.483000   -4.652200   0.053820   0.114124   \n",
      "3      0.011341    0.082599    0.511000   -4.643800   0.094960   0.122136   \n",
      "4      0.013537    0.080735    0.429800   -4.599000   0.096263   0.121903   \n",
      "..          ...         ...         ...         ...        ...        ...   \n",
      "352    0.004286    0.098491    0.036522   -4.376522   0.045445   0.088773   \n",
      "353   -0.002060    0.098847   -0.093333   -4.351667   0.049250   0.100287   \n",
      "354   -0.000601    0.084199   -0.269231   -4.469231   0.046204   0.100325   \n",
      "355    0.001281    0.117791   -1.522500   -4.357500   0.029244   0.096077   \n",
      "356   -0.020984    0.139731    2.193333   -3.896667   0.024227   0.138257   \n",
      "\n",
      "     accgx_std  accgy_std  accax_aad  accay_aad  ...  accgx_above_mean  \\\n",
      "0     2.233230   1.443715   0.029526   0.062699  ...                26   \n",
      "1     2.633937   2.192817   0.035165   0.070085  ...                25   \n",
      "2     2.632642   2.351467   0.038123   0.084034  ...                25   \n",
      "3     2.599414   2.458051   0.055775   0.092520  ...                26   \n",
      "4     2.587047   2.492836   0.057468   0.091128  ...                25   \n",
      "..         ...        ...        ...        ...  ...               ...   \n",
      "352   4.060256   1.933943   0.034468   0.056809  ...                17   \n",
      "353   4.580411   2.185158   0.038401   0.070953  ...                14   \n",
      "354   5.376651   2.498195   0.037042   0.077687  ...                 9   \n",
      "355   6.298517   1.308527   0.024339   0.074969  ...                 6   \n",
      "356   0.174611   1.468703   0.020821   0.130025  ...                 2   \n",
      "\n",
      "     accgy_above_mean  accax_peak_count  accay_peak_count  accgx_peak_count  \\\n",
      "0                  27                12                16                14   \n",
      "1                  27                11                16                15   \n",
      "2                  25                13                17                16   \n",
      "3                  25                14                16                16   \n",
      "4                  26                15                17                16   \n",
      "..                ...               ...               ...               ...   \n",
      "352                 8                 6                 7                 8   \n",
      "353                 7                 5                 5                 6   \n",
      "354                 5                 3                 4                 4   \n",
      "355                 3                 2                 3                 2   \n",
      "356                 1                 0                 1                 1   \n",
      "\n",
      "     accgy_peak_count  accax_energy  accay_energy  accgx_energy  accgy_energy  \n",
      "0                  15      0.001068      0.005860      2.691227     10.248497  \n",
      "1                  16      0.001494      0.007449      3.598658     12.558945  \n",
      "2                  16      0.001756      0.009597      3.582047     13.586181  \n",
      "3                  16      0.004573      0.010870      3.509037     13.803447  \n",
      "4                  18      0.004725      0.010689      3.438771     13.682515  \n",
      "..                ...           ...           ...           ...           ...  \n",
      "352                 8      0.000479      0.004044      3.792012      5.265638  \n",
      "353                 6      0.000437      0.003569      3.777998      4.268145  \n",
      "354                 4      0.000278      0.002230      3.767512      3.407950  \n",
      "355                 3      0.000069      0.001848      3.359146      1.656004  \n",
      "356                 0      0.000031      0.001159      0.145236      0.520233  \n",
      "\n",
      "[357 rows x 56 columns]\n"
     ]
    }
   ],
   "source": [
    "print(X_data)"
   ]
  },
  {
   "cell_type": "code",
   "execution_count": null,
   "metadata": {},
   "outputs": [
    {
     "name": "stdout",
     "output_type": "stream",
     "text": [
      "[4 1 5 5 1 5 1 1 5 3 2 5 4 5 3 3 5 5 3 5 3 4 5 1 4 4 3 5 1 1 5 1 5 3 1 1 1\n",
      " 5 2 1 5 1 5 2 3 4 1 1 1 4 5 4 5 2 5 4 1 2 1 5 1 1 4 2 1 2 5 4 5 2 5 4 5 5\n",
      " 5 1 5 5 1 1 3 1 5 3 5 5 4 3 2 5 1 2 5 2 5 4 1 3 1 2 5 4 5 3 3 4 5 4]\n",
      "0.9722222222222222\n"
     ]
    }
   ],
   "source": [
    "X = X_data\n",
    "y = train_labels\n",
    "\n",
    "\n",
    "from sklearn.model_selection import train_test_split\n",
    "\n",
    "X_train, X_test, y_train, y_test = train_test_split(X,y,test_size = 0.3,random_state = 42)\n",
    "\n",
    "\n",
    "from sklearn.linear_model import LogisticRegression\n",
    "\n",
    "logreg = LogisticRegression(max_iter=150, random_state=42)\n",
    "\n",
    "logreg.fit(X_train,y_train)\n",
    "\n",
    "##print(X_data2)\n",
    "##print(y_train)\n",
    "\n",
    "y_pred = logreg.predict(X_test)\n",
    "\n",
    "\n",
    "print(y_pred)\n",
    "\n",
    "from sklearn import metrics\n",
    "\n",
    "print(metrics.accuracy_score(y_test, y_pred))\n",
    "##print(classification_report(y_test,y_pred))\n",
    "\n"
   ]
  },
  {
   "cell_type": "code",
   "execution_count": null,
   "metadata": {},
   "outputs": [
    {
     "name": "stdout",
     "output_type": "stream",
     "text": [
      "              precision    recall  f1-score   support\n",
      "\n",
      "           1       0.93      1.00      0.96        25\n",
      "           2       0.94      1.00      0.97        15\n",
      "           3       0.92      0.79      0.85        14\n",
      "           4       1.00      0.94      0.97        17\n",
      "           5       1.00      1.00      1.00        37\n",
      "\n",
      "    accuracy                           0.96       108\n",
      "   macro avg       0.96      0.95      0.95       108\n",
      "weighted avg       0.96      0.96      0.96       108\n",
      "\n"
     ]
    }
   ],
   "source": [
    "from sklearn.ensemble import RandomForestClassifier\n",
    "\n",
    "\n",
    "\n",
    "reg_rf = RandomForestClassifier()\n",
    "reg_rf.fit(X_train, y_train)\n",
    "y_pred = reg_rf.predict(X_test)\n",
    "print(metrics.classification_report(y_test, y_pred))"
   ]
  },
  {
   "cell_type": "code",
   "execution_count": null,
   "metadata": {},
   "outputs": [
    {
     "name": "stdout",
     "output_type": "stream",
     "text": [
      "              precision    recall  f1-score   support\n",
      "\n",
      "           1       0.96      0.92      0.94        25\n",
      "           2       1.00      0.93      0.97        15\n",
      "           3       0.86      0.86      0.86        14\n",
      "           4       0.94      1.00      0.97        17\n",
      "           5       0.95      0.97      0.96        37\n",
      "\n",
      "    accuracy                           0.94       108\n",
      "   macro avg       0.94      0.94      0.94       108\n",
      "weighted avg       0.95      0.94      0.94       108\n",
      "\n"
     ]
    }
   ],
   "source": [
    "from sklearn.neighbors import KNeighborsClassifier\n",
    "\n",
    "reg_knn = KNeighborsClassifier()\n",
    "reg_knn.fit(X_train, y_train)\n",
    "y_pred = reg_knn.predict(X_test)\n",
    "print(metrics.classification_report(y_test, y_pred))"
   ]
  },
  {
   "cell_type": "code",
   "execution_count": null,
   "metadata": {},
   "outputs": [
    {
     "name": "stdout",
     "output_type": "stream",
     "text": [
      "    Importance           Features\n",
      "0     0.011102         accax_mean\n",
      "1     0.002738         accay_mean\n",
      "2     0.009508         accgx_mean\n",
      "3     0.005538         accgy_mean\n",
      "4     0.044878          accax_std\n",
      "5     0.035230          accay_std\n",
      "6     0.018519          accgx_std\n",
      "7     0.014320          accgy_std\n",
      "8     0.043650          accax_aad\n",
      "9     0.033934          accay_aad\n",
      "10    0.014901          accgx_aad\n",
      "11    0.007135          accgy_aad\n",
      "12    0.021387          accax_min\n",
      "13    0.038605          accay_min\n",
      "14    0.011787          accgx_min\n",
      "15    0.008876          accgy_min\n",
      "16    0.046748          accax_max\n",
      "17    0.006071          accay_max\n",
      "18    0.004505          accgx_max\n",
      "19    0.014629          accgy_max\n",
      "20    0.034925  accax_maxmin_diff\n",
      "21    0.026936  accay_maxmin_diff\n",
      "22    0.002802  accgx_maxmin_diff\n",
      "23    0.015477  accgy_maxmin_diff\n",
      "24    0.015370       accax_median\n",
      "25    0.003498       accay_median\n",
      "26    0.013213       accgx_median\n",
      "27    0.004879       accgy_median\n",
      "28    0.061075          accax_mad\n",
      "29    0.011614          accay_mad\n",
      "30    0.011502          accgx_mad\n",
      "31    0.028193          accgy_mad\n",
      "32    0.041753          accax_IQR\n",
      "33    0.011369          accay_IQR\n",
      "34    0.017488          accgx_IQR\n",
      "35    0.058207          accgy_IQR\n",
      "36    0.021223    accax_neg_count\n",
      "37    0.018648    accay_neg_count\n",
      "38    0.042569    accgx_neg_count\n",
      "39    0.002633    accgy_neg_count\n",
      "40    0.005686    accax_pos_count\n",
      "41    0.005119    accay_pos_count\n",
      "42    0.005258    accgx_pos_count\n",
      "43    0.001320    accgy_pos_count\n",
      "44    0.003549   accax_above_mean\n",
      "45    0.008830   accay_above_mean\n",
      "46    0.009730   accgx_above_mean\n",
      "47    0.003742   accgy_above_mean\n",
      "48    0.001382   accax_peak_count\n",
      "49    0.009685   accay_peak_count\n",
      "50    0.002575   accgx_peak_count\n",
      "51    0.005544   accgy_peak_count\n",
      "52    0.060717       accax_energy\n",
      "53    0.024880       accay_energy\n",
      "54    0.012434       accgx_energy\n",
      "55    0.002112       accgy_energy\n"
     ]
    }
   ],
   "source": [
    "feature_df = pd.DataFrame({'Importance':reg_rf.feature_importances_, 'Features': X_data.columns })\n",
    "print(feature_df)"
   ]
  },
  {
   "cell_type": "code",
   "execution_count": null,
   "metadata": {},
   "outputs": [
    {
     "name": "stdout",
     "output_type": "stream",
     "text": [
      "Accuracy: 0.9907407407407407\n",
      "\n",
      " -------------Classification Report-------------\n",
      "\n",
      "              precision    recall  f1-score   support\n",
      "\n",
      "           1       0.96      1.00      0.98        25\n",
      "           2       1.00      0.93      0.97        15\n",
      "           3       1.00      1.00      1.00        14\n",
      "           4       1.00      1.00      1.00        17\n",
      "           5       1.00      1.00      1.00        37\n",
      "\n",
      "    accuracy                           0.99       108\n",
      "   macro avg       0.99      0.99      0.99       108\n",
      "weighted avg       0.99      0.99      0.99       108\n",
      "\n"
     ]
    }
   ],
   "source": [
    "from sklearn.preprocessing import StandardScaler\n",
    "from sklearn.linear_model import LogisticRegression\n",
    "from sklearn.metrics import accuracy_score\n",
    "from sklearn.metrics import classification_report\n",
    "# standardization\n",
    "scaler = StandardScaler()\n",
    "scaler.fit(X_train)\n",
    "X_data_data_lr = scaler.transform(X_train)\n",
    "X_test_data_lr = scaler.transform(X_test)\n",
    "# logistic regression model\n",
    "lr = LogisticRegression(max_iter =150, random_state = 0)\n",
    "lr.fit(X_data_data_lr, y_train)\n",
    "y_pred = lr.predict(X_test_data_lr)\n",
    "print(\"Accuracy:\", accuracy_score(y_test, y_pred))\n",
    "print(\"\\n -------------Classification Report-------------\\n\")\n",
    "print(classification_report(y_test, y_pred))"
   ]
  }
 ],
 "metadata": {
  "kernelspec": {
   "display_name": "Python 3.10.6 64-bit",
   "language": "python",
   "name": "python3"
  },
  "language_info": {
   "codemirror_mode": {
    "name": "ipython",
    "version": 3
   },
   "file_extension": ".py",
   "mimetype": "text/x-python",
   "name": "python",
   "nbconvert_exporter": "python",
   "pygments_lexer": "ipython3",
   "version": "3.10.6"
  },
  "orig_nbformat": 4,
  "vscode": {
   "interpreter": {
    "hash": "bbc3c3d932324566a9bf4b4a52ddf64063695fc3adbf25b3fda92572428493bb"
   }
  }
 },
 "nbformat": 4,
 "nbformat_minor": 2
}
